{
 "cells": [
  {
   "cell_type": "markdown",
   "id": "57a4ea7c",
   "metadata": {
    "papermill": {
     "duration": 0.006146,
     "end_time": "2024-06-07T09:59:11.312259",
     "exception": false,
     "start_time": "2024-06-07T09:59:11.306113",
     "status": "completed"
    },
    "tags": []
   },
   "source": [
    "<div class=\"text_cell_render border-box-sizing rendered_html\">\n",
    "<div style=\"color:black; border: 2px solid #6f42c1; background-color:#f3e8ff; padding: 20px; border-radius: 15px; font-size: 200%; font-family: 'Segoe UI', Tahoma, Geneva, Verdana, sans-serif; text-align:center; text-shadow: 2px 2px 4px rgba(0, 0, 0, 0.7);\">📚Extract Text From Images📚</div>\n",
    "</div>"
   ]
  },
  {
   "cell_type": "markdown",
   "id": "3e822741",
   "metadata": {
    "papermill": {
     "duration": 0.005467,
     "end_time": "2024-06-07T09:59:11.323984",
     "exception": false,
     "start_time": "2024-06-07T09:59:11.318517",
     "status": "completed"
    },
    "tags": []
   },
   "source": [
    "\n",
    "<div style=\"text-align:center\">\n",
    "    <img src=\"https://lh6.googleusercontent.com/fiUeo1zFk4n3RkXzd3F1X1NjHFvFsITKtAkJ6cuggNVgGQQ0sxHR3DNEhQtdlxOtGiHZ9C52MVKHVC9CzTU77DN5gjCi_jpHpu_cR6ZZVf3PZFmLZ-K9icpEWpjZWM1yT5eXncfF6C150fQoH1jmDfQ\" alt=\"Image\">\n",
    "</div>"
   ]
  },
  {
   "cell_type": "markdown",
   "id": "51ba48af",
   "metadata": {
    "papermill": {
     "duration": 0.005799,
     "end_time": "2024-06-07T09:59:11.335572",
     "exception": false,
     "start_time": "2024-06-07T09:59:11.329773",
     "status": "completed"
    },
    "tags": []
   },
   "source": [
    "Here are the steps without the code:\n",
    "\n",
    "### 1. Set Up the Environment\n",
    "- Install necessary libraries:\n",
    "  - OpenCV\n",
    "  - pytesseract\n",
    "\n",
    "### 2. Import Required Libraries\n",
    "- Import the necessary Python libraries for image processing and OCR:\n",
    "  - `cv2` for OpenCV\n",
    "  - `pytesseract` for OCR\n",
    "  - `os` for directory and file operations\n",
    "\n",
    "### 3. Define the Image Directory\n",
    "- Specify the directory where your images are stored.\n",
    "\n",
    "### 4. Define the Preprocessing Function\n",
    "- Create a function to preprocess images:\n",
    "  - Convert image to grayscale.\n",
    "  - Apply Gaussian blur to reduce noise.\n",
    "  - Apply adaptive thresholding to binarize the image.\n",
    "\n",
    "### 5. Define the OCR Function\n",
    "- Create a function to extract text from images using OCR:\n",
    "  - Configure Tesseract OCR to handle tabular data better.\n",
    "\n",
    "### 6. Iterate Over Images and Process Them\n",
    "- Loop through each image in the directory:\n",
    "  - Check if the file is an image (e.g., `.jpg` or `.png`).\n",
    "  - Read the image.\n",
    "  - Preprocess the image using the preprocessing function.\n",
    "  - Extract text from the preprocessed image using the OCR function.\n",
    "  - Save the extracted text to a separate file named after the image file."
   ]
  },
  {
   "cell_type": "markdown",
   "id": "361b292d",
   "metadata": {
    "papermill": {
     "duration": 0.006084,
     "end_time": "2024-06-07T09:59:11.347774",
     "exception": false,
     "start_time": "2024-06-07T09:59:11.341690",
     "status": "completed"
    },
    "tags": []
   },
   "source": [
    "<div class=\"text_cell_render border-box-sizing rendered_html\">\n",
    "<div style=\"color:black; border: 2px solid #6f42c1; background-color:#f3e8ff; padding: 20px; border-radius: 15px; font-size: 200%; font-family: 'Segoe UI', Tahoma, Geneva, Verdana, sans-serif; text-align:center; text-shadow: 2px 2px 4px rgba(0, 0, 0, 0.7);\"> 📂IMPORTING LIBRARIES📂 </div>\n",
    "</div>"
   ]
  },
  {
   "cell_type": "code",
   "execution_count": 1,
   "id": "af58a353",
   "metadata": {
    "_cell_guid": "b1076dfc-b9ad-4769-8c92-a6c4dae69d19",
    "_uuid": "8f2839f25d086af736a60e9eeb907d3b93b6e0e5",
    "execution": {
     "iopub.execute_input": "2024-06-07T09:59:11.361437Z",
     "iopub.status.busy": "2024-06-07T09:59:11.360996Z",
     "iopub.status.idle": "2024-06-07T09:59:12.679219Z",
     "shell.execute_reply": "2024-06-07T09:59:12.678001Z"
    },
    "papermill": {
     "duration": 1.328377,
     "end_time": "2024-06-07T09:59:12.682071",
     "exception": false,
     "start_time": "2024-06-07T09:59:11.353694",
     "status": "completed"
    },
    "tags": []
   },
   "outputs": [
    {
     "name": "stdout",
     "output_type": "stream",
     "text": [
      "/kaggle/input/image-dataset-for-ocr/[Business Quant] Image dataset for OCR/tm224644d1_ex99-1img015.jpg\n",
      "/kaggle/input/image-dataset-for-ocr/[Business Quant] Image dataset for OCR/image00045.jpg\n",
      "/kaggle/input/image-dataset-for-ocr/[Business Quant] Image dataset for OCR/image00004.jpg\n",
      "/kaggle/input/image-dataset-for-ocr/[Business Quant] Image dataset for OCR/tm224644d1_ex99-1img005.jpg\n",
      "/kaggle/input/image-dataset-for-ocr/[Business Quant] Image dataset for OCR/image00013.jpg\n",
      "/kaggle/input/image-dataset-for-ocr/[Business Quant] Image dataset for OCR/image00003.jpg\n",
      "/kaggle/input/image-dataset-for-ocr/[Business Quant] Image dataset for OCR/image00046.jpg\n",
      "/kaggle/input/image-dataset-for-ocr/[Business Quant] Image dataset for OCR/image00047.jpg\n",
      "/kaggle/input/image-dataset-for-ocr/[Business Quant] Image dataset for OCR/tm224644d1_ex99-1img028.jpg\n"
     ]
    }
   ],
   "source": [
    "import numpy as np \n",
    "import pandas as pd \n",
    "import cv2\n",
    "import pytesseract\n",
    "import os\n",
    "import re\n",
    "for dirname, _, filenames in os.walk('/kaggle/input'):\n",
    "    for filename in filenames:\n",
    "        print(os.path.join(dirname, filename))"
   ]
  },
  {
   "cell_type": "markdown",
   "id": "9b93e54c",
   "metadata": {
    "papermill": {
     "duration": 0.005685,
     "end_time": "2024-06-07T09:59:12.693920",
     "exception": false,
     "start_time": "2024-06-07T09:59:12.688235",
     "status": "completed"
    },
    "tags": []
   },
   "source": [
    "<div class=\"text_cell_render border-box-sizing rendered_html\">\n",
    "<div class=\"alert alert-block alert-success\" style=\"margin: 20px; padding: 20px; border-radius: 10px; border: 2px solid #4CAF50; background-color: #E6F7E2;\">\n",
    "    <b>📂 Libraries:</b> Successfully import the recquired library\n",
    "</div>\n",
    "</div>"
   ]
  },
  {
   "cell_type": "code",
   "execution_count": 2,
   "id": "56f0f212",
   "metadata": {
    "execution": {
     "iopub.execute_input": "2024-06-07T09:59:12.707693Z",
     "iopub.status.busy": "2024-06-07T09:59:12.707145Z",
     "iopub.status.idle": "2024-06-07T09:59:12.712374Z",
     "shell.execute_reply": "2024-06-07T09:59:12.711213Z"
    },
    "papermill": {
     "duration": 0.014816,
     "end_time": "2024-06-07T09:59:12.714723",
     "exception": false,
     "start_time": "2024-06-07T09:59:12.699907",
     "status": "completed"
    },
    "tags": []
   },
   "outputs": [],
   "source": [
    "# Path to the directory containing images\n",
    "image_dir = '/kaggle/input/image-dataset-for-ocr/[Business Quant] Image dataset for OCR'"
   ]
  },
  {
   "cell_type": "markdown",
   "id": "dd1a01b7",
   "metadata": {
    "papermill": {
     "duration": 0.005991,
     "end_time": "2024-06-07T09:59:12.726850",
     "exception": false,
     "start_time": "2024-06-07T09:59:12.720859",
     "status": "completed"
    },
    "tags": []
   },
   "source": [
    "<div class=\"text_cell_render border-box-sizing rendered_html\">\n",
    "<div style=\"color:black; border: 2px solid #6f42c1; background-color:#f3e8ff; padding: 20px; border-radius: 15px; font-size: 200%; font-family: 'Segoe UI', Tahoma, Geneva, Verdana, sans-serif; text-align:center; text-shadow: 2px 2px 4px rgba(0, 0, 0, 0.7);\"> 🛠Preprocessing Image🛠 </div>\n",
    "</div>"
   ]
  },
  {
   "cell_type": "code",
   "execution_count": 3,
   "id": "2e156e1f",
   "metadata": {
    "execution": {
     "iopub.execute_input": "2024-06-07T09:59:12.740839Z",
     "iopub.status.busy": "2024-06-07T09:59:12.740391Z",
     "iopub.status.idle": "2024-06-07T09:59:12.747361Z",
     "shell.execute_reply": "2024-06-07T09:59:12.745967Z"
    },
    "papermill": {
     "duration": 0.016948,
     "end_time": "2024-06-07T09:59:12.749894",
     "exception": false,
     "start_time": "2024-06-07T09:59:12.732946",
     "status": "completed"
    },
    "tags": []
   },
   "outputs": [],
   "source": [
    "# Function to preprocess images\n",
    "def preprocess_image(image):\n",
    "    # Convert image to grayscale\n",
    "    gray = cv2.cvtColor(image, cv2.COLOR_BGR2GRAY)\n",
    "\n",
    "    # Apply Gaussian blur to reduce noise\n",
    "    blurred = cv2.GaussianBlur(gray, (5, 5), 0)\n",
    "\n",
    "    # Apply adaptive thresholding to binarize the image\n",
    "    thresholded = cv2.adaptiveThreshold(blurred, 255, cv2.ADAPTIVE_THRESH_GAUSSIAN_C, cv2.THRESH_BINARY, 11, 2)\n",
    "\n",
    "    return thresholded"
   ]
  },
  {
   "cell_type": "markdown",
   "id": "9cac989c",
   "metadata": {
    "papermill": {
     "duration": 0.005785,
     "end_time": "2024-06-07T09:59:12.761742",
     "exception": false,
     "start_time": "2024-06-07T09:59:12.755957",
     "status": "completed"
    },
    "tags": []
   },
   "source": [
    "<div class=\"text_cell_render border-box-sizing rendered_html\">\n",
    "<div style=\"color:black; border: 2px solid #6f42c1; background-color:#f3e8ff; padding: 20px; border-radius: 15px; font-size: 200%; font-family: 'Segoe UI', Tahoma, Geneva, Verdana, sans-serif; text-align:center; text-shadow: 2px 2px 4px rgba(0, 0, 0, 0.7);\"> 🔍Extract Text🔍 </div>\n",
    "</div>"
   ]
  },
  {
   "cell_type": "code",
   "execution_count": 4,
   "id": "eede0c98",
   "metadata": {
    "execution": {
     "iopub.execute_input": "2024-06-07T09:59:12.775410Z",
     "iopub.status.busy": "2024-06-07T09:59:12.774998Z",
     "iopub.status.idle": "2024-06-07T09:59:12.781181Z",
     "shell.execute_reply": "2024-06-07T09:59:12.779854Z"
    },
    "papermill": {
     "duration": 0.015864,
     "end_time": "2024-06-07T09:59:12.783671",
     "exception": false,
     "start_time": "2024-06-07T09:59:12.767807",
     "status": "completed"
    },
    "tags": []
   },
   "outputs": [],
   "source": [
    "# Function to extract text from images using OCR\n",
    "def extract_text(image):\n",
    "    # Use Tesseract OCR with --psm 6 to handle tabular data better\n",
    "    custom_config = r'--oem 3 --psm 6'\n",
    "    text = pytesseract.image_to_string(image, config=custom_config)\n",
    "    return text"
   ]
  },
  {
   "cell_type": "code",
   "execution_count": 5,
   "id": "25988149",
   "metadata": {
    "execution": {
     "iopub.execute_input": "2024-06-07T09:59:12.797525Z",
     "iopub.status.busy": "2024-06-07T09:59:12.797112Z",
     "iopub.status.idle": "2024-06-07T10:00:57.654667Z",
     "shell.execute_reply": "2024-06-07T10:00:57.652996Z"
    },
    "papermill": {
     "duration": 104.867789,
     "end_time": "2024-06-07T10:00:57.657529",
     "exception": false,
     "start_time": "2024-06-07T09:59:12.789740",
     "status": "completed"
    },
    "tags": []
   },
   "outputs": [
    {
     "name": "stderr",
     "output_type": "stream",
     "text": [
      "Premature end of JPEG file\n",
      "Premature end of JPEG file\n",
      "Premature end of JPEG file\n"
     ]
    },
    {
     "name": "stdout",
     "output_type": "stream",
     "text": [
      "Text extraction completed. Extracted text saved to individual files.\n"
     ]
    }
   ],
   "source": [
    "# Iterate over images in the directory\n",
    "for filename in os.listdir(image_dir):\n",
    "    if filename.endswith('.jpg') or filename.endswith('.png'):\n",
    "        # Read the image\n",
    "        image_path = os.path.join(image_dir, filename)\n",
    "        image = cv2.imread(image_path)\n",
    "\n",
    "        # Preprocess the image\n",
    "        preprocessed_image = preprocess_image(image)\n",
    "\n",
    "        # Extract text from the preprocessed image\n",
    "        extracted_text = extract_text(preprocessed_image)\n",
    "\n",
    "        # Save the extracted text to a separate file\n",
    "        output_file = f\"{os.path.splitext(filename)[0]}.txt\"\n",
    "        with open(output_file, 'w') as f:\n",
    "            f.write(extracted_text)\n",
    "\n",
    "print(\"Text extraction completed. Extracted text saved to individual files.\")"
   ]
  },
  {
   "cell_type": "markdown",
   "id": "805bd57f",
   "metadata": {
    "papermill": {
     "duration": 0.006057,
     "end_time": "2024-06-07T10:00:57.670128",
     "exception": false,
     "start_time": "2024-06-07T10:00:57.664071",
     "status": "completed"
    },
    "tags": []
   },
   "source": [
    "<div class=\"text_cell_render border-box-sizing rendered_html\">\n",
    "<div class=\"alert alert-block alert-success\" style=\"margin: 20px; padding: 20px; border-radius: 10px; border: 2px solid #4CAF50; background-color: #E6F7E2;\">\n",
    "    <b>📂 Extraction:</b> Successfully extract the text and Saved Successfully\n",
    "</div>\n",
    "</div>"
   ]
  },
  {
   "cell_type": "markdown",
   "id": "0a245cae",
   "metadata": {
    "papermill": {
     "duration": 0.006127,
     "end_time": "2024-06-07T10:00:57.682555",
     "exception": false,
     "start_time": "2024-06-07T10:00:57.676428",
     "status": "completed"
    },
    "tags": []
   },
   "source": [
    "<div class=\"text_cell_render border-box-sizing rendered_html\">\n",
    "<div style=\"color:black; border: 2px solid #6f42c1; background-color:#f3e8ff; padding: 20px; border-radius: 15px; font-size: 200%; font-family: 'Segoe UI', Tahoma, Geneva, Verdana, sans-serif; text-align:center; text-shadow: 2px 2px 4px rgba(0, 0, 0, 0.7);\"> 📜Sample Of Saved File📜 </div>\n",
    "</div>"
   ]
  },
  {
   "cell_type": "code",
   "execution_count": 6,
   "id": "33691414",
   "metadata": {
    "execution": {
     "iopub.execute_input": "2024-06-07T10:00:57.697801Z",
     "iopub.status.busy": "2024-06-07T10:00:57.697368Z",
     "iopub.status.idle": "2024-06-07T10:00:57.705358Z",
     "shell.execute_reply": "2024-06-07T10:00:57.703887Z"
    },
    "papermill": {
     "duration": 0.01919,
     "end_time": "2024-06-07T10:00:57.708177",
     "exception": false,
     "start_time": "2024-06-07T10:00:57.688987",
     "status": "completed"
    },
    "tags": []
   },
   "outputs": [
    {
     "name": "stdout",
     "output_type": "stream",
     "text": [
      "Interim condensed consolidated statement of cash flows\n",
      "ne\n",
      "on\n",
      "meecmsies\n",
      "_ i\n",
      "; were\n",
      "SSS Sn\n",
      "TE\n",
      "earn a 2 2\n",
      "Re ————\"__>>=>====SSananq—=aaa=\"11\n",
      "een : 5 m\n",
      "EE  —_—————————_—_—_—_—_—_——=—_—===_S====———S=——aA\n",
      "panibyeenrtray = is =\n",
      "a ————_—[—$—[—[_—[_—[_—[_—]_—]_—]_—]_—>——=—————————>>>>>=>>>>=>=E=EC=h\"“~EULD2a=S=S>=anm=_hE—aI\n",
      "ono oo ,\n",
      "a\n",
      "= = :\n",
      "eR ccc ny\n",
      "Sa = 7 >\n",
      "| ~( eneueltes== << —— et\n",
      "Soon 7 ™ fs\n",
      "OEE\n",
      "cet 5 2 ~\n",
      "8S\n",
      "a ze = =\n",
      "ed\n",
      "[ene pewe leer Ta a = 7\n",
      "RP R———————_—_—_[_>>——[—[—[—[—[—[—>_—[_—\"_——>=>>>>>>>>>>>)—SSSSS——S==a\n",
      "Romine 7 a on\n",
      "OF a OF ee IN)\n",
      "oss : et ma\n",
      "oO —— OO\n",
      "Saas = = =\n",
      "——SS___========_=—_———==__=___=_____=\n",
      "Sa\n",
      "PEE OE LM eT,\n",
      "Root\n",
      "i\n",
      "ee a = =H\n",
      "0  —————————————————_—_—_—_—— = = =\n",
      "a A 8 85 0 $< — sO\n",
      "prapesusalgaletpsivann am in 7\n",
      "Det hey gt\n",
      "Com a Sank mre pe — So\n",
      "\f",
      "\n"
     ]
    }
   ],
   "source": [
    "output_file = '/kaggle/working/image00004.txt'\n",
    "\n",
    "# Open and read the extracted text file\n",
    "with open(output_file, 'r') as f:\n",
    "    extracted_text = f.read()\n",
    "\n",
    "# Print the extracted text\n",
    "print(extracted_text)"
   ]
  },
  {
   "cell_type": "code",
   "execution_count": 7,
   "id": "701f6fff",
   "metadata": {
    "execution": {
     "iopub.execute_input": "2024-06-07T10:00:57.724028Z",
     "iopub.status.busy": "2024-06-07T10:00:57.723614Z",
     "iopub.status.idle": "2024-06-07T10:00:57.731674Z",
     "shell.execute_reply": "2024-06-07T10:00:57.729911Z"
    },
    "papermill": {
     "duration": 0.019457,
     "end_time": "2024-06-07T10:00:57.734228",
     "exception": false,
     "start_time": "2024-06-07T10:00:57.714771",
     "status": "completed"
    },
    "tags": []
   },
   "outputs": [
    {
     "name": "stdout",
     "output_type": "stream",
     "text": [
      "ISAPYSAp quarterly Statement 4 2021 R ® & ® B\n",
      "Services\n",
      "1-04 2022 1-04 bin ane\n",
      "€ milGons, unless otherwise stated —$—$ rrr\n",
      "(noo1FRS) Actual Constant Actual, Actual, Constant\n",
      "Curenty Currency Currency Currency Currency\n",
      "Cloud and software | ° ol 5 95 -95\n",
      "Servkes | 3.234 3,282] 3,374 4 3\n",
      "Total segment revenue { 3,234 3,283] 3379 4 3\n",
      "Cost of coud { -78 -80] -74 6 8\n",
      "Cost of software licenses and support ( -18 -19] 32 43 42\n",
      "Cost of cloud and sofware ( 97 99] 106 “9 7\n",
      "Cost of services. | -2035 -2,062| __-2,209 -8 7\n",
      "Total cost of revenue ( +2432 +2,160| -2,315 <8 7\n",
      "Segment gross profit I 1,103 1,122] 1,063 4 6\n",
      "Other segment expenses [ 375 -379] 418 -10 9\n",
      "Segment profit (loss) | 728 744) 645 13 15\n",
      "Margins.\n",
      "Services gross margin (in 9) | 372 372] uS 269 2700\n",
      "Segment gross margin (in %) ( 342 34.2] 225 26pp 27%pp\n",
      "Segment margin (in 9) | 25 22.74 19.2 34pp 3.6pp\n",
      "Due to rounding, numbers may not add up precisely.\n",
      "28/35\n",
      "es\n",
      "\f",
      "\n"
     ]
    }
   ],
   "source": [
    "output_file = '/kaggle/working/tm224644d1_ex99-1img028.txt'\n",
    "\n",
    "# Open and read the extracted text file\n",
    "with open(output_file, 'r') as f:\n",
    "    extracted_text = f.read()\n",
    "\n",
    "# Print the extracted text\n",
    "print(extracted_text)"
   ]
  },
  {
   "cell_type": "code",
   "execution_count": 8,
   "id": "563db824",
   "metadata": {
    "execution": {
     "iopub.execute_input": "2024-06-07T10:00:57.750218Z",
     "iopub.status.busy": "2024-06-07T10:00:57.749807Z",
     "iopub.status.idle": "2024-06-07T10:00:57.758634Z",
     "shell.execute_reply": "2024-06-07T10:00:57.756649Z"
    },
    "papermill": {
     "duration": 0.02043,
     "end_time": "2024-06-07T10:00:57.761564",
     "exception": false,
     "start_time": "2024-06-07T10:00:57.741134",
     "status": "completed"
    },
    "tags": []
   },
   "outputs": [
    {
     "name": "stdout",
     "output_type": "stream",
     "text": [
      "ISAPY Sap quarterly statement 4 2021 R ® & ® B\n",
      "AV ‘ A\n",
      "asl Financial Results at a Glance\n",
      "| Fourth Quarter 2023 eee\n",
      "IFRS Non4Frs*\n",
      "i\n",
      "€ million, unless otherwise stated Q42021 042020 Bi% 942021 042020 ain const\n",
      "Current cloud backlog? | Nal NA Nal 9,447] 7,155 32 26\n",
      "‘Thereof SAP SJAHANA Current Cloud Backlog? | Nal NA NA| 1,707 927 84 16\n",
      "Cloud revenue | 2611[ 2042 23| 2611] 2044 28 24\n",
      "Thereot SAP S/4HANA Cloud revenue | 329| 199 65| 329| 199 6s 61\n",
      "Software licenses and support revenue | 43794538 | 4379] 4538 4 4\n",
      "Cloud and software revenue | 6990] 6.579 6| 6990] 6582 6 3\n",
      "Total revenue | 7981| 7,538 6| 798] 7,542 6 3\n",
      "Share of more predictable revenue (in 96) ( 69| 65 Spo | 69] 6s Spo\n",
      "Operating prof (loss) | 2466] 2,657 —s| 2468] 2,772 <1. -12\n",
      "Profit (loss) after tax | 2487[ 2.934 -25| 2280] 2,026 13\n",
      "Basic eamings per share {in €) | 1.26| 162 -23 | 1.86] 1.70 10\n",
      "Number of employees (FTE, December 31) | t07415| 102,430 s| na | NA NA NA\n",
      "1 For a breakdown of the individual adfustments see table “Non-FRS Adiusments by Functional Areas” In this Quarterly Statement,\n",
      "7 As this is an order entry metric, there Is noIFRS equivalent.\n",
      "Due to rounding, numbers may not add up precisely,\n",
      "| Ful year 2029\n",
      "IFRS Non4FRS*\n",
      "aos 1-04 ai-as 01-04 ain%\n",
      "€ millon, unless otherwise stated ‘2021 2020 bine ‘2021 2020 ane const.\n",
      "Gurrent Ctoud Backlog? ! Nal NA NA| _9,447| 7,155 32 26\n",
      "‘Thereof SAP S/4HANA Current Cloud Backlog? | Nal NA nal 1,707| 927 84 76\n",
      "Cloud revenue | 9,418] 8.080 17| 9418] 8,085 16 29\n",
      "‘Thereof SAP S/SHANA Cloud revenue | 1,090] 749 46( —_1,090/ 749 46 4?\n",
      "Software licenses and support revenue | 14660] 15,148 -3| 14660] 15,148 3 -2\n",
      "Cloud and software revenue | 26078| 23,228 4| 24078] 23,233 4 5\n",
      "Total revenue | 27,842] 27,338 2| 27842] 27,343 2 3\n",
      "Share of more predictable revenue (in %) | 75| m2 3pp | 75| 72 3pp\n",
      "Operating profit (loss) | 4659| 6,623 -30[ 8,230] 8,287 -1 2\n",
      "Profat (loss) after tax | 5383 5.283 2|  8343| 6.534 28\n",
      "Basic eamings per share (in €) | 446 | 43s 3| 6.74| 541 3\n",
      "Number of employees (FTE, December 31} | 107,415] 102,430 5| nal NA NA NA\n",
      "1 For 8 breakdown of the individual adjustments see lable \"Non-FRS Adjustments by Functional Areas” in this Quarterly Statement.\n",
      "7 AS this Is an order entry metic, there is NOLFRS equivalent.\n",
      "Due to rounding, numbers may not add up precisely.\n",
      "535\n",
      "\f",
      "\n"
     ]
    }
   ],
   "source": [
    "output_file = '/kaggle/working/tm224644d1_ex99-1img005.txt'\n",
    "\n",
    "# Open and read the extracted text file\n",
    "with open(output_file, 'r') as f:\n",
    "    extracted_text = f.read()\n",
    "\n",
    "# Print the extracted text\n",
    "print(extracted_text)"
   ]
  }
 ],
 "metadata": {
  "kaggle": {
   "accelerator": "none",
   "dataSources": [
    {
     "datasetId": 5167097,
     "sourceId": 8629909,
     "sourceType": "datasetVersion"
    }
   ],
   "dockerImageVersionId": 30732,
   "isGpuEnabled": false,
   "isInternetEnabled": true,
   "language": "python",
   "sourceType": "notebook"
  },
  "kernelspec": {
   "display_name": "Python 3",
   "language": "python",
   "name": "python3"
  },
  "language_info": {
   "codemirror_mode": {
    "name": "ipython",
    "version": 3
   },
   "file_extension": ".py",
   "mimetype": "text/x-python",
   "name": "python",
   "nbconvert_exporter": "python",
   "pygments_lexer": "ipython3",
   "version": "3.10.13"
  },
  "papermill": {
   "default_parameters": {},
   "duration": 110.201398,
   "end_time": "2024-06-07T10:00:58.293135",
   "environment_variables": {},
   "exception": null,
   "input_path": "__notebook__.ipynb",
   "output_path": "__notebook__.ipynb",
   "parameters": {},
   "start_time": "2024-06-07T09:59:08.091737",
   "version": "2.5.0"
  }
 },
 "nbformat": 4,
 "nbformat_minor": 5
}
